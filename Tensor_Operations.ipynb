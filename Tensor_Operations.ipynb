{
  "nbformat": 4,
  "nbformat_minor": 0,
  "metadata": {
    "colab": {
      "provenance": [],
      "toc_visible": true
    },
    "kernelspec": {
      "name": "python3",
      "display_name": "Python 3"
    },
    "language_info": {
      "name": "python"
    }
  },
  "cells": [
    {
      "cell_type": "code",
      "execution_count": null,
      "metadata": {
        "colab": {
          "base_uri": "https://localhost:8080/"
        },
        "id": "tVBUt78wvzrI",
        "outputId": "3cd30cc6-4680-4542-837e-c02bba6066fb"
      },
      "outputs": [
        {
          "output_type": "stream",
          "name": "stdout",
          "text": [
            "tf.Tensor(5, shape=(), dtype=int32)\n"
          ]
        }
      ],
      "source": [
        "#Creating Tensors\n",
        "\n",
        "import tensorflow as tf\n",
        "\n",
        "# Scalar (0D tensor)\n",
        "scalar_tensor = tf.constant(5)\n",
        "print(scalar_tensor)"
      ]
    },
    {
      "cell_type": "code",
      "source": [
        "# Vector (1D tensor)\n",
        "vector_tensor = tf.constant([1, 2, 3, 4])\n",
        "print(vector_tensor)"
      ],
      "metadata": {
        "colab": {
          "base_uri": "https://localhost:8080/"
        },
        "id": "GGH51Aapr64p",
        "outputId": "71b510df-2b47-4076-a7cf-83ac6d2652c0"
      },
      "execution_count": null,
      "outputs": [
        {
          "output_type": "stream",
          "name": "stdout",
          "text": [
            "tf.Tensor([1 2 3 4], shape=(4,), dtype=int32)\n"
          ]
        }
      ]
    },
    {
      "cell_type": "code",
      "source": [
        "# Matrix (2D tensor)\n",
        "matrix_tensor = tf.constant([[1, 2], [3, 4]])\n",
        "print(matrix_tensor)"
      ],
      "metadata": {
        "colab": {
          "base_uri": "https://localhost:8080/"
        },
        "id": "NE1mOuHzr6-a",
        "outputId": "a62596b1-62c6-44c2-c94a-499d89829baa"
      },
      "execution_count": null,
      "outputs": [
        {
          "output_type": "stream",
          "name": "stdout",
          "text": [
            "tf.Tensor(\n",
            "[[1 2]\n",
            " [3 4]], shape=(2, 2), dtype=int32)\n"
          ]
        }
      ]
    },
    {
      "cell_type": "code",
      "source": [
        "# 3D Tensor\n",
        "tensor_3d = tf.constant([[[1, 2], [3, 4]], [[5, 6], [7, 8]]])\n",
        "print(tensor_3d)"
      ],
      "metadata": {
        "colab": {
          "base_uri": "https://localhost:8080/"
        },
        "id": "iwqOukX4r7BL",
        "outputId": "13638f84-22a2-4541-b7c1-962d9ebab986"
      },
      "execution_count": null,
      "outputs": [
        {
          "output_type": "stream",
          "name": "stdout",
          "text": [
            "tf.Tensor(\n",
            "[[[1 2]\n",
            "  [3 4]]\n",
            "\n",
            " [[5 6]\n",
            "  [7 8]]], shape=(2, 2, 2), dtype=int32)\n"
          ]
        }
      ]
    },
    {
      "cell_type": "code",
      "source": [
        "# Tensor of zeros (2D tensor)\n",
        "zeros_tensor = tf.zeros([3, 3])\n",
        "print(zeros_tensor)"
      ],
      "metadata": {
        "colab": {
          "base_uri": "https://localhost:8080/"
        },
        "id": "-9vAWWTnr7Fo",
        "outputId": "a14aa0a7-b097-4a98-80d2-baed7294ae9b"
      },
      "execution_count": null,
      "outputs": [
        {
          "output_type": "stream",
          "name": "stdout",
          "text": [
            "tf.Tensor(\n",
            "[[0. 0. 0.]\n",
            " [0. 0. 0.]\n",
            " [0. 0. 0.]], shape=(3, 3), dtype=float32)\n"
          ]
        }
      ]
    },
    {
      "cell_type": "code",
      "source": [
        "# Tensor of ones (2D tensor)\n",
        "ones_tensor = tf.ones([2, 2])\n",
        "print(ones_tensor)"
      ],
      "metadata": {
        "colab": {
          "base_uri": "https://localhost:8080/"
        },
        "id": "3eaM0BkXsQiU",
        "outputId": "96345bfc-650b-4fca-d743-852e9f0b3237"
      },
      "execution_count": null,
      "outputs": [
        {
          "output_type": "stream",
          "name": "stdout",
          "text": [
            "tf.Tensor(\n",
            "[[1. 1.]\n",
            " [1. 1.]], shape=(2, 2), dtype=float32)\n"
          ]
        }
      ]
    },
    {
      "cell_type": "code",
      "source": [
        "#Tensor Operation\n",
        "\n",
        "import tensorflow as tf\n",
        "\n",
        "# Define a matrix tensor\n",
        "matrix_tensor = tf.constant([[1, 2], [3, 4]])\n",
        "print(matrix_tensor)"
      ],
      "metadata": {
        "colab": {
          "base_uri": "https://localhost:8080/"
        },
        "id": "CvvB_MI5wRld",
        "outputId": "615a77da-547b-4e36-817c-5f72dcdbb720"
      },
      "execution_count": null,
      "outputs": [
        {
          "output_type": "stream",
          "name": "stdout",
          "text": [
            "tf.Tensor(\n",
            "[[1 2]\n",
            " [3 4]], shape=(2, 2), dtype=int32)\n"
          ]
        }
      ]
    },
    {
      "cell_type": "code",
      "source": [
        "# Define a ones tensor\n",
        "ones_tensor = tf.ones_like(matrix_tensor)\n",
        "print(ones_tensor)"
      ],
      "metadata": {
        "colab": {
          "base_uri": "https://localhost:8080/"
        },
        "id": "94ZPNHa5xaxC",
        "outputId": "0602665e-83ff-4477-bcf0-9406f4fc6f64"
      },
      "execution_count": null,
      "outputs": [
        {
          "output_type": "stream",
          "name": "stdout",
          "text": [
            "tf.Tensor(\n",
            "[[1 1]\n",
            " [1 1]], shape=(2, 2), dtype=int32)\n"
          ]
        }
      ]
    },
    {
      "cell_type": "code",
      "source": [
        "# Element-wise addition\n",
        "tensor_add = tf.add(matrix_tensor, ones_tensor)\n",
        "print(tensor_add)"
      ],
      "metadata": {
        "colab": {
          "base_uri": "https://localhost:8080/"
        },
        "id": "Y3BnLY8Bxaz4",
        "outputId": "34f7cfdd-6d42-4e9e-a5f3-4be15bea583b"
      },
      "execution_count": null,
      "outputs": [
        {
          "output_type": "stream",
          "name": "stdout",
          "text": [
            "tf.Tensor(\n",
            "[[2 3]\n",
            " [4 5]], shape=(2, 2), dtype=int32)\n"
          ]
        }
      ]
    },
    {
      "cell_type": "code",
      "source": [
        "# Matrix multiplication (dot product)\n",
        "matrix_mult = tf.matmul(matrix_tensor, matrix_tensor)\n",
        "print(matrix_mult)"
      ],
      "metadata": {
        "colab": {
          "base_uri": "https://localhost:8080/"
        },
        "id": "knBvcvSbxa2w",
        "outputId": "dba4bc78-30e8-4d80-b07d-855ad1733dbb"
      },
      "execution_count": null,
      "outputs": [
        {
          "output_type": "stream",
          "name": "stdout",
          "text": [
            "tf.Tensor(\n",
            "[[ 7 10]\n",
            " [15 22]], shape=(2, 2), dtype=int32)\n"
          ]
        }
      ]
    },
    {
      "cell_type": "code",
      "source": [
        "# Reshape a tensor\n",
        "#changing shape of matrix_tensor to [4, 1]\n",
        "reshaped_tensor = tf.reshape(matrix_tensor, [4, 1])\n",
        "print(reshaped_tensor)"
      ],
      "metadata": {
        "colab": {
          "base_uri": "https://localhost:8080/"
        },
        "id": "o5XL86Plxa5X",
        "outputId": "353300e0-4077-4c68-bf53-c5645b57236e"
      },
      "execution_count": null,
      "outputs": [
        {
          "output_type": "stream",
          "name": "stdout",
          "text": [
            "tf.Tensor(\n",
            "[[1]\n",
            " [2]\n",
            " [3]\n",
            " [4]], shape=(4, 1), dtype=int32)\n"
          ]
        }
      ]
    },
    {
      "cell_type": "code",
      "source": [
        "# Transpose a tensor\n",
        "# flip rows and columns of matrix_tensor\n",
        "transpose_tensor = tf.transpose(matrix_tensor)\n",
        "print(transpose_tensor)"
      ],
      "metadata": {
        "colab": {
          "base_uri": "https://localhost:8080/"
        },
        "id": "po-adhGexa8e",
        "outputId": "8a18c617-e60e-4c92-89eb-3455c93e7430"
      },
      "execution_count": null,
      "outputs": [
        {
          "output_type": "stream",
          "name": "stdout",
          "text": [
            "tf.Tensor(\n",
            "[[1 3]\n",
            " [2 4]], shape=(2, 2), dtype=int32)\n"
          ]
        }
      ]
    },
    {
      "cell_type": "code",
      "source": [
        "#Accessing Tensor Elements\n",
        "vector_tensor = tf.constant([1, 2, 3, 4])\n",
        "print(vector_tensor)"
      ],
      "metadata": {
        "colab": {
          "base_uri": "https://localhost:8080/"
        },
        "id": "R3-ZMPnM2GsR",
        "outputId": "eed66648-e2d0-4f99-f5ae-f1ad89b38cdb"
      },
      "execution_count": null,
      "outputs": [
        {
          "output_type": "stream",
          "name": "stdout",
          "text": [
            "tf.Tensor([1 2 3 4], shape=(4,), dtype=int32)\n"
          ]
        }
      ]
    },
    {
      "cell_type": "code",
      "source": [
        "# Accessing the first element of a vector\n",
        "first_element = vector_tensor[0]\n",
        "print(first_element)"
      ],
      "metadata": {
        "id": "mlW8DCd02v6X",
        "colab": {
          "base_uri": "https://localhost:8080/"
        },
        "outputId": "f72d105e-fb48-4c37-b9e1-00e7a7708086"
      },
      "execution_count": null,
      "outputs": [
        {
          "output_type": "stream",
          "name": "stdout",
          "text": [
            "tf.Tensor(1, shape=(), dtype=int32)\n"
          ]
        }
      ]
    },
    {
      "cell_type": "code",
      "source": [
        "# Define a matrix tensor\n",
        "matrix_tensor = tf.constant([[1, 2], [3, 4]])\n",
        "print(matrix_tensor)"
      ],
      "metadata": {
        "id": "4trIDvcAx2bE",
        "outputId": "f5a87dbe-468e-4ae7-f1fb-88c4ee1f2289",
        "colab": {
          "base_uri": "https://localhost:8080/"
        }
      },
      "execution_count": null,
      "outputs": [
        {
          "output_type": "stream",
          "name": "stdout",
          "text": [
            "tf.Tensor(\n",
            "[[1 2]\n",
            " [3 4]], shape=(2, 2), dtype=int32)\n"
          ]
        }
      ]
    },
    {
      "cell_type": "code",
      "source": [
        "# Slicing a tensor\n",
        "matrix_slice = matrix_tensor[:1, :]\n",
        "print(matrix_slice)"
      ],
      "metadata": {
        "id": "1epaipjVx2dp",
        "outputId": "a8b00bb9-fde8-4877-b516-e9d3015faea9",
        "colab": {
          "base_uri": "https://localhost:8080/"
        }
      },
      "execution_count": null,
      "outputs": [
        {
          "output_type": "stream",
          "name": "stdout",
          "text": [
            "tf.Tensor([[1 2]], shape=(1, 2), dtype=int32)\n"
          ]
        }
      ]
    }
  ]
}