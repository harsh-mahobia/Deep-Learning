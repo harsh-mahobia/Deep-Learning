{
 "cells": [
  {
   "cell_type": "markdown",
   "id": "445218ab",
   "metadata": {},
   "source": [
    "# 🧠 Tensor Operations in TensorFlow with Visual Explanations\n",
    "Learn different types of tensors and how they look like using visualizations!"
   ]
  },
  {
   "cell_type": "markdown",
   "id": "edf7b10e",
   "metadata": {},
   "source": [
    "## 🔹 Scalar Tensor (0D)\n",
    "A **scalar** is a single number, like `5`. It's a tensor of rank 0.\n",
    "\n",
    "📌 **Use Case**: Learning rate, bias value, or a constant.\n",
    "\n",
    "🖼️ **Visualization**: Just one number in a centered box."
   ]
  },
  {
   "cell_type": "code",
   "execution_count": null,
   "id": "e099cfad",
   "metadata": {},
   "outputs": [],
   "source": [
    "import tensorflow as tf\n",
    "import matplotlib.pyplot as plt\n",
    "\n",
    "scalar_tensor = tf.constant(5)\n",
    "print(\"Scalar Tensor:\\n\", scalar_tensor)\n",
    "\n",
    "fig, ax = plt.subplots()\n",
    "ax.text(0.5, 0.5, str(scalar_tensor.numpy()), fontsize=14, ha='center', va='center')\n",
    "ax.set_title(\"Scalar (0D Tensor)\")\n",
    "ax.axis('off')\n",
    "plt.show()"
   ]
  },
  {
   "cell_type": "markdown",
   "id": "c370c2d0",
   "metadata": {},
   "source": [
    "## 🔹 Vector Tensor (1D)\n",
    "A **vector** is a list of numbers — a 1D tensor.\n",
    "\n",
    "📌 **Use Case**: Feature array, grayscale row, embedding.\n",
    "\n",
    "🖼️ **Visualization**: A line chart connecting each value."
   ]
  },
  {
   "cell_type": "code",
   "execution_count": null,
   "id": "727ccc94",
   "metadata": {},
   "outputs": [],
   "source": [
    "vector_tensor = tf.constant([1, 2, 3, 4])\n",
    "print(\"Vector Tensor:\\n\", vector_tensor)\n",
    "\n",
    "fig, ax = plt.subplots()\n",
    "ax.plot(vector_tensor.numpy(), 'o-', label=\"Values\")\n",
    "ax.set_title(\"Vector (1D Tensor)\")\n",
    "ax.legend()\n",
    "plt.show()"
   ]
  },
  {
   "cell_type": "markdown",
   "id": "30edf753",
   "metadata": {},
   "source": [
    "## 🔹 Matrix Tensor (2D)\n",
    "A **matrix** is like a table — a 2D tensor.\n",
    "\n",
    "📌 **Use Case**: Image pixels, dataset, weight matrix.\n",
    "\n",
    "🖼️ **Visualization**: Color heatmap grid with values."
   ]
  },
  {
   "cell_type": "code",
   "execution_count": null,
   "id": "5f357342",
   "metadata": {},
   "outputs": [],
   "source": [
    "matrix_tensor = tf.constant([[1, 2], [3, 4]])\n",
    "print(\"Matrix Tensor:\\n\", matrix_tensor)\n",
    "\n",
    "fig, ax = plt.subplots()\n",
    "cax = ax.matshow(matrix_tensor.numpy(), cmap='Blues')\n",
    "fig.colorbar(cax)\n",
    "ax.set_title(\"Matrix (2D Tensor)\")\n",
    "plt.show()"
   ]
  },
  {
   "cell_type": "markdown",
   "id": "286c042c",
   "metadata": {},
   "source": [
    "## 🔹 3D Tensor\n",
    "A **3D tensor** contains multiple 2D matrices stacked together.\n",
    "\n",
    "📌 **Use Case**: Color image (RGB), video frames, batch input.\n",
    "\n",
    "🖼️ **Visualization**: Each 2D slice shown as a subplot."
   ]
  },
  {
   "cell_type": "code",
   "execution_count": null,
   "id": "8d2356e7",
   "metadata": {},
   "outputs": [],
   "source": [
    "tensor_3d = tf.constant([[[1, 2], [3, 4]],\n",
    "                         [[5, 6], [7, 8]]])\n",
    "print(\"3D Tensor:\\n\", tensor_3d)\n",
    "\n",
    "tensor_np = tensor_3d.numpy()\n",
    "num_slices = tensor_np.shape[0]\n",
    "\n",
    "fig, axs = plt.subplots(1, num_slices, figsize=(5 * num_slices, 4))\n",
    "fig.suptitle(\"3D Tensor - 2D Slices View\")\n",
    "\n",
    "if num_slices == 1:\n",
    "    axs = [axs]\n",
    "\n",
    "for i in range(num_slices):\n",
    "    axs[i].imshow(tensor_np[i], cmap='Blues', interpolation='nearest')\n",
    "    axs[i].set_title(f\"Slice {i}\")\n",
    "    axs[i].axis('off')\n",
    "\n",
    "plt.show()"
   ]
  },
  {
   "cell_type": "markdown",
   "id": "de1b9cd2",
   "metadata": {},
   "source": [
    "## 🔹 Zeros Tensor\n",
    "Creates a tensor filled with **zeros**.\n",
    "\n",
    "📌 **Use Case**: Initializing weights, clearing data.\n",
    "\n",
    "🖼️ **Visualization**: Light grid showing all 0 values."
   ]
  },
  {
   "cell_type": "code",
   "execution_count": null,
   "id": "e47fdb24",
   "metadata": {},
   "outputs": [],
   "source": [
    "zeros_tensor = tf.zeros([3, 3])\n",
    "print(\"Zeros Tensor:\\n\", zeros_tensor)\n",
    "\n",
    "fig, ax = plt.subplots()\n",
    "cax = ax.matshow(zeros_tensor.numpy(), cmap='Blues')\n",
    "fig.colorbar(cax)\n",
    "ax.set_title(\"Zeros Tensor (3x3)\")\n",
    "plt.show()"
   ]
  },
  {
   "cell_type": "markdown",
   "id": "abd857e7",
   "metadata": {},
   "source": [
    "## 🔹 Ones Tensor\n",
    "Creates a tensor filled with **ones**.\n",
    "\n",
    "📌 **Use Case**: Additive identity, masking, default fill.\n",
    "\n",
    "🖼️ **Visualization**: Grid with uniform color (same value)."
   ]
  },
  {
   "cell_type": "code",
   "execution_count": null,
   "id": "4a997462",
   "metadata": {},
   "outputs": [],
   "source": [
    "ones_tensor = tf.ones([2, 2])\n",
    "print(\"Ones Tensor:\\n\", ones_tensor)\n",
    "\n",
    "fig, ax = plt.subplots()\n",
    "cax = ax.matshow(ones_tensor.numpy(), cmap='Blues')\n",
    "fig.colorbar(cax)\n",
    "ax.set_title(\"Ones Tensor (2x2)\")\n",
    "plt.show()"
   ]
  }
 ],
 "metadata": {},
 "nbformat": 4,
 "nbformat_minor": 5
}
